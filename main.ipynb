{
 "cells": [
  {
   "cell_type": "code",
   "execution_count": 12,
   "metadata": {},
   "outputs": [],
   "source": [
    "import requests\n",
    "import numpy as np\n",
    "import pandas as pd\n",
    "\n",
    "# Function to fetch data based on distance, latitude, and longitude\n",
    "def fetch_safecast_data(latitude, longitude, date, interval):\n",
    "    # URL of the JSON API with dynamic variables\n",
    "    columns = ['id', 'user_id', 'value', 'unit', 'location_name', 'device_id', 'original_id', 'measurement_import_id', 'captured_at', 'height', 'devicetype_id', 'sensor_id', 'station_id', 'channel_id', 'latitude', 'longitude']\n",
    "    end_date = date + pd.Timedelta(days=interval)\n",
    "    hours = np.arange(0, 24, 3)\n",
    "    batch = pd.DataFrame(columns=columns)\n",
    "    for i in range(0, len(hours)-2):\n",
    "        url = f\"https://api.safecast.org/en-US/measurements?captured_after={date.year}%2F{date.month}%2F{date.day}+{hours[i]}%3A00%3A00&captured_before={date.year}%2F{date.month}%2F{date.day}+{hours[i+1]}%3A00%3A00&format=json&latitude={latitude}&longitude={longitude}\"\n",
    "\n",
    "        response = requests.get(url)\n",
    "\n",
    "\n",
    "        # Check if the request was successful (status code 200)\n",
    "        if response.status_code == 200:\n",
    "            # Parse JSON response\n",
    "            data = response.json()\n",
    "            batch = pd.concat([batch, pd.DataFrame(data)], ignore_index=True)\n",
    "        else:\n",
    "            print(\"Failed to fetch data:\", response.status_code)\n",
    "            continue\n",
    "    avg_batch= batch[['value', 'unit', 'location_name', 'captured_at', 'device_id', 'height', 'devicetype_id', 'station_id', 'latitude', 'longitude']].groupby(['latitude', 'longitude', 'unit']).agg({\n",
    "    'value': 'mean',\n",
    "    'location_name': 'first', \n",
    "    'device_id': 'first', \n",
    "    'height': 'first', \n",
    "    'devicetype_id': 'first', \n",
    "    'station_id': 'first'\n",
    "}).reset_index()\n",
    "\n",
    "    return avg_batch\n",
    "    \n",
    "def fetch_all(latitude_range, longitude_range, date_range, interval):\n",
    "    columns = ['value', 'unit', 'location_name', 'captured_at', 'device_id', 'height', 'devicetype_id', 'station_id', 'latitude', 'longitude']\n",
    "    result = pd.DataFrame(columns=columns)\n",
    "\n",
    "    latitude = np.linspace(latitude_range[0], latitude_range[1], interval)\n",
    "    longitude = np.linspace(longitude_range[0], longitude_range[1], interval)\n",
    "    dates = pd.date_range(start=date_range[0], end=date_range[0], periods=(date_range[1] - date_range[0]).days)\n",
    "    \n",
    "    for date in dates:\n",
    "        for lat in latitude:\n",
    "            for long in longitude:\n",
    "                batch = pd.DataFrame(fetch_safecast_data(lat, long, date, 1))\n",
    "                result = pd.concat([result, batch], ignore_index=True)\n",
    "    return result\n"
   ]
  },
  {
   "cell_type": "code",
   "execution_count": 13,
   "metadata": {},
   "outputs": [],
   "source": [
    "result = fetch_all([34, 35], [134, 135], [pd.Timestamp('2024-03-20'), pd.Timestamp('2024-03-21')], 2)"
   ]
  },
  {
   "cell_type": "code",
   "execution_count": 14,
   "metadata": {},
   "outputs": [
    {
     "name": "stdout",
     "output_type": "stream",
     "text": [
      "         value         unit                       location_name captured_at  \\\n",
      "0    19.500000          cpm                                None         NaN   \n",
      "1    19.100000       status                                None         NaN   \n",
      "2    14.666667          cpm                          Phoenix,AZ         NaN   \n",
      "3    26.000000          cpm  Earl's House, Johns Creek, GA, USA         NaN   \n",
      "4     0.172000          usv  Earl's House, Johns Creek, GA, USA         NaN   \n",
      "..         ...          ...                                 ...         ...   \n",
      "447  19.000000          cpm                     Bad Pyrmont, DE         NaN   \n",
      "448  17.333333          cpm                       Waterland, NL         NaN   \n",
      "449  17.000000          cpm                          Berlin, DE         NaN   \n",
      "450  10.650000   PM10 ug/m3                                None         NaN   \n",
      "451   4.450000  PM2.5 ug/m3                                None         NaN   \n",
      "\n",
      "     device_id  height                                      devicetype_id  \\\n",
      "0     100221.0    13.0                                       Pointcast V1   \n",
      "1     100229.0    13.0  DeviceID:10022,Temperature:19.1,Battery Voltag...   \n",
      "2       4841.0     NaN                                               None   \n",
      "3         90.0   615.0                                               None   \n",
      "4         90.0   615.0                                               None   \n",
      "..         ...     ...                                                ...   \n",
      "447      108.0     NaN                                               None   \n",
      "448      205.0     NaN                                               None   \n",
      "449      204.0     NaN                                               None   \n",
      "450      244.0     NaN                                               None   \n",
      "451      244.0     NaN                                               None   \n",
      "\n",
      "    station_id   latitude   longitude  \n",
      "0         None  31.833193  130.301922  \n",
      "1         None  31.833193  130.301922  \n",
      "2         None  33.665600 -112.182700  \n",
      "3         None  34.067301  -84.211610  \n",
      "4         None  34.067301  -84.211610  \n",
      "..         ...        ...         ...  \n",
      "447       None  51.980700    9.234500  \n",
      "448       None  52.427600    4.971100  \n",
      "449       None  52.449400   13.312700  \n",
      "450       None  53.864000   -3.047000  \n",
      "451       None  53.864000   -3.047000  \n",
      "\n",
      "[452 rows x 10 columns]\n"
     ]
    }
   ],
   "source": [
    "print(result)"
   ]
  }
 ],
 "metadata": {
  "kernelspec": {
   "display_name": "Python 3",
   "language": "python",
   "name": "python3"
  },
  "language_info": {
   "codemirror_mode": {
    "name": "ipython",
    "version": 3
   },
   "file_extension": ".py",
   "mimetype": "text/x-python",
   "name": "python",
   "nbconvert_exporter": "python",
   "pygments_lexer": "ipython3",
   "version": "3.6.8rc1"
  }
 },
 "nbformat": 4,
 "nbformat_minor": 2
}
