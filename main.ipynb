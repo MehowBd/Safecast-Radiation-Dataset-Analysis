{
 "cells": [
  {
   "cell_type": "markdown",
   "metadata": {},
   "source": [
    "# Analysis of Safecast radiation data"
   ]
  },
  {
   "cell_type": "code",
   "execution_count": 9,
   "metadata": {},
   "outputs": [],
   "source": [
    "import pandas as pd\n",
    "import plotly.express as px\n",
    "#from scripts.preprocessing.process_measurements import *"
   ]
  },
  {
   "cell_type": "markdown",
   "metadata": {},
   "source": [
    "## Data loading"
   ]
  },
  {
   "cell_type": "markdown",
   "metadata": {},
   "source": [
    "### Load the dataset"
   ]
  },
  {
   "cell_type": "code",
   "execution_count": 10,
   "metadata": {},
   "outputs": [
    {
     "data": {
      "text/html": [
       "<div>\n",
       "<style scoped>\n",
       "    .dataframe tbody tr th:only-of-type {\n",
       "        vertical-align: middle;\n",
       "    }\n",
       "\n",
       "    .dataframe tbody tr th {\n",
       "        vertical-align: top;\n",
       "    }\n",
       "\n",
       "    .dataframe thead th {\n",
       "        text-align: right;\n",
       "    }\n",
       "</style>\n",
       "<table border=\"1\" class=\"dataframe\">\n",
       "  <thead>\n",
       "    <tr style=\"text-align: right;\">\n",
       "      <th></th>\n",
       "      <th>Device ID</th>\n",
       "      <th>Measurement Day</th>\n",
       "      <th>Latitude</th>\n",
       "      <th>Longitude</th>\n",
       "      <th>Height</th>\n",
       "      <th>Average Value</th>\n",
       "      <th>Prev Latitude</th>\n",
       "      <th>Prev Longitude</th>\n",
       "      <th>Prev Height</th>\n",
       "      <th>Movement</th>\n",
       "      <th>Height Difference</th>\n",
       "      <th>Status</th>\n",
       "    </tr>\n",
       "  </thead>\n",
       "  <tbody>\n",
       "    <tr>\n",
       "      <th>0</th>\n",
       "      <td>0.0</td>\n",
       "      <td>2013-10-10</td>\n",
       "      <td>35.638275</td>\n",
       "      <td>139.709950</td>\n",
       "      <td>-inf</td>\n",
       "      <td>128.000000</td>\n",
       "      <td>NaN</td>\n",
       "      <td>NaN</td>\n",
       "      <td>NaN</td>\n",
       "      <td>0.000000</td>\n",
       "      <td>NaN</td>\n",
       "      <td>Stationary</td>\n",
       "    </tr>\n",
       "    <tr>\n",
       "      <th>1</th>\n",
       "      <td>0.0</td>\n",
       "      <td>2013-10-11</td>\n",
       "      <td>35.638275</td>\n",
       "      <td>139.709950</td>\n",
       "      <td>-inf</td>\n",
       "      <td>14.370000</td>\n",
       "      <td>35.638275</td>\n",
       "      <td>139.709950</td>\n",
       "      <td>-inf</td>\n",
       "      <td>0.000000</td>\n",
       "      <td>NaN</td>\n",
       "      <td>Stationary</td>\n",
       "    </tr>\n",
       "    <tr>\n",
       "      <th>2</th>\n",
       "      <td>0.0</td>\n",
       "      <td>2013-10-12</td>\n",
       "      <td>35.638275</td>\n",
       "      <td>139.709950</td>\n",
       "      <td>-inf</td>\n",
       "      <td>14.860000</td>\n",
       "      <td>35.638275</td>\n",
       "      <td>139.709950</td>\n",
       "      <td>-inf</td>\n",
       "      <td>0.000000</td>\n",
       "      <td>NaN</td>\n",
       "      <td>Stationary</td>\n",
       "    </tr>\n",
       "    <tr>\n",
       "      <th>3</th>\n",
       "      <td>0.0</td>\n",
       "      <td>2013-10-13</td>\n",
       "      <td>35.638275</td>\n",
       "      <td>139.709950</td>\n",
       "      <td>-inf</td>\n",
       "      <td>15.000000</td>\n",
       "      <td>35.638275</td>\n",
       "      <td>139.709950</td>\n",
       "      <td>-inf</td>\n",
       "      <td>0.000000</td>\n",
       "      <td>NaN</td>\n",
       "      <td>Stationary</td>\n",
       "    </tr>\n",
       "    <tr>\n",
       "      <th>4</th>\n",
       "      <td>0.0</td>\n",
       "      <td>2013-10-14</td>\n",
       "      <td>35.638275</td>\n",
       "      <td>139.709950</td>\n",
       "      <td>-inf</td>\n",
       "      <td>15.060000</td>\n",
       "      <td>35.638275</td>\n",
       "      <td>139.709950</td>\n",
       "      <td>-inf</td>\n",
       "      <td>0.000000</td>\n",
       "      <td>NaN</td>\n",
       "      <td>Stationary</td>\n",
       "    </tr>\n",
       "    <tr>\n",
       "      <th>...</th>\n",
       "      <td>...</td>\n",
       "      <td>...</td>\n",
       "      <td>...</td>\n",
       "      <td>...</td>\n",
       "      <td>...</td>\n",
       "      <td>...</td>\n",
       "      <td>...</td>\n",
       "      <td>...</td>\n",
       "      <td>...</td>\n",
       "      <td>...</td>\n",
       "      <td>...</td>\n",
       "      <td>...</td>\n",
       "    </tr>\n",
       "    <tr>\n",
       "      <th>382938</th>\n",
       "      <td>666666.0</td>\n",
       "      <td>2016-07-16</td>\n",
       "      <td>34.482707</td>\n",
       "      <td>136.165813</td>\n",
       "      <td>-inf</td>\n",
       "      <td>27.150000</td>\n",
       "      <td>34.482565</td>\n",
       "      <td>136.163749</td>\n",
       "      <td>-inf</td>\n",
       "      <td>190.320321</td>\n",
       "      <td>NaN</td>\n",
       "      <td>Moving</td>\n",
       "    </tr>\n",
       "    <tr>\n",
       "      <th>382939</th>\n",
       "      <td>666666.0</td>\n",
       "      <td>2016-07-17</td>\n",
       "      <td>35.268946</td>\n",
       "      <td>136.249729</td>\n",
       "      <td>-inf</td>\n",
       "      <td>25.260000</td>\n",
       "      <td>34.482707</td>\n",
       "      <td>136.165813</td>\n",
       "      <td>-inf</td>\n",
       "      <td>87560.783327</td>\n",
       "      <td>NaN</td>\n",
       "      <td>Moving</td>\n",
       "    </tr>\n",
       "    <tr>\n",
       "      <th>382940</th>\n",
       "      <td>666666.0</td>\n",
       "      <td>2016-07-18</td>\n",
       "      <td>35.371239</td>\n",
       "      <td>136.448062</td>\n",
       "      <td>-inf</td>\n",
       "      <td>24.906667</td>\n",
       "      <td>35.268946</td>\n",
       "      <td>136.249729</td>\n",
       "      <td>-inf</td>\n",
       "      <td>21308.385671</td>\n",
       "      <td>NaN</td>\n",
       "      <td>Moving</td>\n",
       "    </tr>\n",
       "    <tr>\n",
       "      <th>382941</th>\n",
       "      <td>666666.0</td>\n",
       "      <td>2016-07-19</td>\n",
       "      <td>35.268985</td>\n",
       "      <td>136.249700</td>\n",
       "      <td>-inf</td>\n",
       "      <td>31.025000</td>\n",
       "      <td>35.371239</td>\n",
       "      <td>136.448062</td>\n",
       "      <td>-inf</td>\n",
       "      <td>21308.342527</td>\n",
       "      <td>NaN</td>\n",
       "      <td>Moving</td>\n",
       "    </tr>\n",
       "    <tr>\n",
       "      <th>382942</th>\n",
       "      <td>666666.0</td>\n",
       "      <td>2016-08-03</td>\n",
       "      <td>34.613045</td>\n",
       "      <td>136.105962</td>\n",
       "      <td>-inf</td>\n",
       "      <td>27.185789</td>\n",
       "      <td>35.268985</td>\n",
       "      <td>136.249700</td>\n",
       "      <td>-inf</td>\n",
       "      <td>73944.884569</td>\n",
       "      <td>NaN</td>\n",
       "      <td>Moving</td>\n",
       "    </tr>\n",
       "  </tbody>\n",
       "</table>\n",
       "<p>382943 rows × 12 columns</p>\n",
       "</div>"
      ],
      "text/plain": [
       "        Device ID Measurement Day   Latitude   Longitude  Height  \\\n",
       "0             0.0      2013-10-10  35.638275  139.709950    -inf   \n",
       "1             0.0      2013-10-11  35.638275  139.709950    -inf   \n",
       "2             0.0      2013-10-12  35.638275  139.709950    -inf   \n",
       "3             0.0      2013-10-13  35.638275  139.709950    -inf   \n",
       "4             0.0      2013-10-14  35.638275  139.709950    -inf   \n",
       "...           ...             ...        ...         ...     ...   \n",
       "382938   666666.0      2016-07-16  34.482707  136.165813    -inf   \n",
       "382939   666666.0      2016-07-17  35.268946  136.249729    -inf   \n",
       "382940   666666.0      2016-07-18  35.371239  136.448062    -inf   \n",
       "382941   666666.0      2016-07-19  35.268985  136.249700    -inf   \n",
       "382942   666666.0      2016-08-03  34.613045  136.105962    -inf   \n",
       "\n",
       "        Average Value  Prev Latitude  Prev Longitude  Prev Height  \\\n",
       "0          128.000000            NaN             NaN          NaN   \n",
       "1           14.370000      35.638275      139.709950         -inf   \n",
       "2           14.860000      35.638275      139.709950         -inf   \n",
       "3           15.000000      35.638275      139.709950         -inf   \n",
       "4           15.060000      35.638275      139.709950         -inf   \n",
       "...               ...            ...             ...          ...   \n",
       "382938      27.150000      34.482565      136.163749         -inf   \n",
       "382939      25.260000      34.482707      136.165813         -inf   \n",
       "382940      24.906667      35.268946      136.249729         -inf   \n",
       "382941      31.025000      35.371239      136.448062         -inf   \n",
       "382942      27.185789      35.268985      136.249700         -inf   \n",
       "\n",
       "            Movement  Height Difference      Status  \n",
       "0           0.000000                NaN  Stationary  \n",
       "1           0.000000                NaN  Stationary  \n",
       "2           0.000000                NaN  Stationary  \n",
       "3           0.000000                NaN  Stationary  \n",
       "4           0.000000                NaN  Stationary  \n",
       "...              ...                ...         ...  \n",
       "382938    190.320321                NaN      Moving  \n",
       "382939  87560.783327                NaN      Moving  \n",
       "382940  21308.385671                NaN      Moving  \n",
       "382941  21308.342527                NaN      Moving  \n",
       "382942  73944.884569                NaN      Moving  \n",
       "\n",
       "[382943 rows x 12 columns]"
      ]
     },
     "execution_count": 10,
     "metadata": {},
     "output_type": "execute_result"
    }
   ],
   "source": [
    "data = pd.read_csv('data/measurements.csv')\n",
    "\n",
    "df = pd.DataFrame(data)\n",
    "df"
   ]
  },
  {
   "cell_type": "markdown",
   "metadata": {},
   "source": [
    "## Data preprocessing"
   ]
  },
  {
   "cell_type": "markdown",
   "metadata": {},
   "source": [
    "### Drop incorrect measurements"
   ]
  },
  {
   "cell_type": "code",
   "execution_count": 11,
   "metadata": {},
   "outputs": [
    {
     "ename": "KeyError",
     "evalue": "'Unit'",
     "output_type": "error",
     "traceback": [
      "\u001b[1;31m---------------------------------------------------------------------------\u001b[0m",
      "\u001b[1;31mKeyError\u001b[0m                                  Traceback (most recent call last)",
      "File \u001b[1;32mc:\\Users\\lopma\\miniconda3\\envs\\py_3_11\\Lib\\site-packages\\pandas\\core\\indexes\\base.py:3805\u001b[0m, in \u001b[0;36mIndex.get_loc\u001b[1;34m(self, key)\u001b[0m\n\u001b[0;32m   3804\u001b[0m \u001b[38;5;28;01mtry\u001b[39;00m:\n\u001b[1;32m-> 3805\u001b[0m     \u001b[38;5;28;01mreturn\u001b[39;00m \u001b[38;5;28;43mself\u001b[39;49m\u001b[38;5;241;43m.\u001b[39;49m\u001b[43m_engine\u001b[49m\u001b[38;5;241;43m.\u001b[39;49m\u001b[43mget_loc\u001b[49m\u001b[43m(\u001b[49m\u001b[43mcasted_key\u001b[49m\u001b[43m)\u001b[49m\n\u001b[0;32m   3806\u001b[0m \u001b[38;5;28;01mexcept\u001b[39;00m \u001b[38;5;167;01mKeyError\u001b[39;00m \u001b[38;5;28;01mas\u001b[39;00m err:\n",
      "File \u001b[1;32mindex.pyx:167\u001b[0m, in \u001b[0;36mpandas._libs.index.IndexEngine.get_loc\u001b[1;34m()\u001b[0m\n",
      "File \u001b[1;32mindex.pyx:196\u001b[0m, in \u001b[0;36mpandas._libs.index.IndexEngine.get_loc\u001b[1;34m()\u001b[0m\n",
      "File \u001b[1;32mpandas\\\\_libs\\\\hashtable_class_helper.pxi:7081\u001b[0m, in \u001b[0;36mpandas._libs.hashtable.PyObjectHashTable.get_item\u001b[1;34m()\u001b[0m\n",
      "File \u001b[1;32mpandas\\\\_libs\\\\hashtable_class_helper.pxi:7089\u001b[0m, in \u001b[0;36mpandas._libs.hashtable.PyObjectHashTable.get_item\u001b[1;34m()\u001b[0m\n",
      "\u001b[1;31mKeyError\u001b[0m: 'Unit'",
      "\nThe above exception was the direct cause of the following exception:\n",
      "\u001b[1;31mKeyError\u001b[0m                                  Traceback (most recent call last)",
      "Cell \u001b[1;32mIn[11], line 1\u001b[0m\n\u001b[1;32m----> 1\u001b[0m \u001b[43mdf\u001b[49m\u001b[43m[\u001b[49m\u001b[38;5;124;43m'\u001b[39;49m\u001b[38;5;124;43mUnit\u001b[39;49m\u001b[38;5;124;43m'\u001b[39;49m\u001b[43m]\u001b[49m\u001b[38;5;241m.\u001b[39mvalue_counts()\n",
      "File \u001b[1;32mc:\\Users\\lopma\\miniconda3\\envs\\py_3_11\\Lib\\site-packages\\pandas\\core\\frame.py:4102\u001b[0m, in \u001b[0;36mDataFrame.__getitem__\u001b[1;34m(self, key)\u001b[0m\n\u001b[0;32m   4100\u001b[0m \u001b[38;5;28;01mif\u001b[39;00m \u001b[38;5;28mself\u001b[39m\u001b[38;5;241m.\u001b[39mcolumns\u001b[38;5;241m.\u001b[39mnlevels \u001b[38;5;241m>\u001b[39m \u001b[38;5;241m1\u001b[39m:\n\u001b[0;32m   4101\u001b[0m     \u001b[38;5;28;01mreturn\u001b[39;00m \u001b[38;5;28mself\u001b[39m\u001b[38;5;241m.\u001b[39m_getitem_multilevel(key)\n\u001b[1;32m-> 4102\u001b[0m indexer \u001b[38;5;241m=\u001b[39m \u001b[38;5;28;43mself\u001b[39;49m\u001b[38;5;241;43m.\u001b[39;49m\u001b[43mcolumns\u001b[49m\u001b[38;5;241;43m.\u001b[39;49m\u001b[43mget_loc\u001b[49m\u001b[43m(\u001b[49m\u001b[43mkey\u001b[49m\u001b[43m)\u001b[49m\n\u001b[0;32m   4103\u001b[0m \u001b[38;5;28;01mif\u001b[39;00m is_integer(indexer):\n\u001b[0;32m   4104\u001b[0m     indexer \u001b[38;5;241m=\u001b[39m [indexer]\n",
      "File \u001b[1;32mc:\\Users\\lopma\\miniconda3\\envs\\py_3_11\\Lib\\site-packages\\pandas\\core\\indexes\\base.py:3812\u001b[0m, in \u001b[0;36mIndex.get_loc\u001b[1;34m(self, key)\u001b[0m\n\u001b[0;32m   3807\u001b[0m     \u001b[38;5;28;01mif\u001b[39;00m \u001b[38;5;28misinstance\u001b[39m(casted_key, \u001b[38;5;28mslice\u001b[39m) \u001b[38;5;129;01mor\u001b[39;00m (\n\u001b[0;32m   3808\u001b[0m         \u001b[38;5;28misinstance\u001b[39m(casted_key, abc\u001b[38;5;241m.\u001b[39mIterable)\n\u001b[0;32m   3809\u001b[0m         \u001b[38;5;129;01mand\u001b[39;00m \u001b[38;5;28many\u001b[39m(\u001b[38;5;28misinstance\u001b[39m(x, \u001b[38;5;28mslice\u001b[39m) \u001b[38;5;28;01mfor\u001b[39;00m x \u001b[38;5;129;01min\u001b[39;00m casted_key)\n\u001b[0;32m   3810\u001b[0m     ):\n\u001b[0;32m   3811\u001b[0m         \u001b[38;5;28;01mraise\u001b[39;00m InvalidIndexError(key)\n\u001b[1;32m-> 3812\u001b[0m     \u001b[38;5;28;01mraise\u001b[39;00m \u001b[38;5;167;01mKeyError\u001b[39;00m(key) \u001b[38;5;28;01mfrom\u001b[39;00m \u001b[38;5;21;01merr\u001b[39;00m\n\u001b[0;32m   3813\u001b[0m \u001b[38;5;28;01mexcept\u001b[39;00m \u001b[38;5;167;01mTypeError\u001b[39;00m:\n\u001b[0;32m   3814\u001b[0m     \u001b[38;5;66;03m# If we have a listlike key, _check_indexing_error will raise\u001b[39;00m\n\u001b[0;32m   3815\u001b[0m     \u001b[38;5;66;03m#  InvalidIndexError. Otherwise we fall through and re-raise\u001b[39;00m\n\u001b[0;32m   3816\u001b[0m     \u001b[38;5;66;03m#  the TypeError.\u001b[39;00m\n\u001b[0;32m   3817\u001b[0m     \u001b[38;5;28mself\u001b[39m\u001b[38;5;241m.\u001b[39m_check_indexing_error(key)\n",
      "\u001b[1;31mKeyError\u001b[0m: 'Unit'"
     ]
    }
   ],
   "source": [
    "df['Unit'].value_counts()"
   ]
  },
  {
   "cell_type": "markdown",
   "metadata": {},
   "source": [
    "#### Incorrect unit names"
   ]
  },
  {
   "cell_type": "markdown",
   "metadata": {},
   "source": [
    "We see that most measurements have the unit \"cpm\". The notation does not have the same case, so we can substitute corresponding units that are stored in different formats (` cpm`, `CPM` and `Cpm` is the same as `cpm`).\n",
    "\n",
    "Also replace `microsivert` with `usv` as these are the same units."
   ]
  },
  {
   "cell_type": "code",
   "execution_count": 7,
   "metadata": {},
   "outputs": [
    {
     "data": {
      "text/plain": [
       "Unit\n",
       "cpm            424470\n",
       "celcius         86095\n",
       "status          51182\n",
       "usv              5524\n",
       "PM10 ug/m3        735\n",
       "DeviceType2       618\n",
       "DeviceType1        34\n",
       "HUMD%              20\n",
       "1                  15\n",
       "NOXppm              8\n",
       "0                   5\n",
       "pm2.5               3\n",
       "PM1                 1\n",
       "Name: count, dtype: int64"
      ]
     },
     "execution_count": 7,
     "metadata": {},
     "output_type": "execute_result"
    }
   ],
   "source": [
    "# substitute ` cpm`, `CPM` and `Cpm` units with `cpm`\n",
    "df['Unit'] = df['Unit'].str.replace(' cpm', 'cpm')\n",
    "df['Unit'] = df['Unit'].str.replace('CPM', 'cpm')\n",
    "df['Unit'] = df['Unit'].str.replace('Cpm', 'cpm')\n",
    "\n",
    "# substitute micorsivert with usv\n",
    "df['Unit'] = df['Unit'].str.replace('microsievert', 'usv')\n",
    "\n",
    "df['Unit'].value_counts()"
   ]
  },
  {
   "cell_type": "code",
   "execution_count": 8,
   "metadata": {},
   "outputs": [
    {
     "data": {
      "text/plain": [
       "Unit\n",
       "cpm            424470\n",
       "celcius         86095\n",
       "status          51182\n",
       "usv              5524\n",
       "PM10 ug/m3        735\n",
       "DeviceType2       618\n",
       "Name: count, dtype: int64"
      ]
     },
     "execution_count": 8,
     "metadata": {},
     "output_type": "execute_result"
    }
   ],
   "source": [
    "# Drop all row that use units with counts less than 100\n",
    "df = df[df['Unit'].map(df['Unit'].value_counts()) > 100]\n",
    "\n",
    "df['Unit'].value_counts()"
   ]
  },
  {
   "cell_type": "markdown",
   "metadata": {},
   "source": [
    "#### Measurements with `DeviceType2` unit"
   ]
  },
  {
   "cell_type": "markdown",
   "metadata": {},
   "source": [
    "Because measurements for the `DeviceType2` unit always have the same value and we don't know what the actual unit actually is, we can drop these measurements as well."
   ]
  },
  {
   "cell_type": "code",
   "execution_count": null,
   "metadata": {},
   "outputs": [
    {
     "ename": "",
     "evalue": "",
     "output_type": "error",
     "traceback": [
      "\u001b[1;31mRunning cells with 'py_3_11 (Python 3.11.9)' requires the ipykernel package.\n",
      "\u001b[1;31mRun the following command to install 'ipykernel' into the Python environment. \n",
      "\u001b[1;31mCommand: 'conda install -n py_3_11 ipykernel --update-deps --force-reinstall'"
     ]
    }
   ],
   "source": [
    "df[df['Unit'] == 'DeviceType2']['Average Value'].describe()"
   ]
  },
  {
   "cell_type": "code",
   "execution_count": null,
   "metadata": {},
   "outputs": [
    {
     "ename": "",
     "evalue": "",
     "output_type": "error",
     "traceback": [
      "\u001b[1;31mRunning cells with 'py_3_11 (Python 3.11.9)' requires the ipykernel package.\n",
      "\u001b[1;31mRun the following command to install 'ipykernel' into the Python environment. \n",
      "\u001b[1;31mCommand: 'conda install -n py_3_11 ipykernel --update-deps --force-reinstall'"
     ]
    }
   ],
   "source": [
    "df = df[df['Unit'] != 'DeviceType2']"
   ]
  },
  {
   "cell_type": "markdown",
   "metadata": {},
   "source": [
    "#### Measurements with `celcius` unit"
   ]
  },
  {
   "cell_type": "markdown",
   "metadata": {},
   "source": [
    "Drop all measurements with the `celcius` unit as this unit is used to measure temperature, not radiation. (The unit should be named `celsius`, though)"
   ]
  },
  {
   "cell_type": "code",
   "execution_count": null,
   "metadata": {},
   "outputs": [
    {
     "ename": "",
     "evalue": "",
     "output_type": "error",
     "traceback": [
      "\u001b[1;31mRunning cells with 'py_3_11 (Python 3.11.9)' requires the ipykernel package.\n",
      "\u001b[1;31mRun the following command to install 'ipykernel' into the Python environment. \n",
      "\u001b[1;31mCommand: 'conda install -n py_3_11 ipykernel --update-deps --force-reinstall'"
     ]
    }
   ],
   "source": [
    "df[df['Unit'] == 'celcius']['Average Value'].describe()"
   ]
  },
  {
   "cell_type": "code",
   "execution_count": null,
   "metadata": {},
   "outputs": [
    {
     "ename": "",
     "evalue": "",
     "output_type": "error",
     "traceback": [
      "\u001b[1;31mRunning cells with 'py_3_11 (Python 3.11.9)' requires the ipykernel package.\n",
      "\u001b[1;31mRun the following command to install 'ipykernel' into the Python environment. \n",
      "\u001b[1;31mCommand: 'conda install -n py_3_11 ipykernel --update-deps --force-reinstall'"
     ]
    }
   ],
   "source": [
    "df = df[df['Unit'] != 'celcius']"
   ]
  },
  {
   "cell_type": "markdown",
   "metadata": {},
   "source": [
    "#### Measurements with `status` unit"
   ]
  },
  {
   "cell_type": "markdown",
   "metadata": {},
   "source": [
    "Let's see what we get for the `status` unit"
   ]
  },
  {
   "cell_type": "code",
   "execution_count": null,
   "metadata": {},
   "outputs": [
    {
     "ename": "",
     "evalue": "",
     "output_type": "error",
     "traceback": [
      "\u001b[1;31mRunning cells with 'py_3_11 (Python 3.11.9)' requires the ipykernel package.\n",
      "\u001b[1;31mRun the following command to install 'ipykernel' into the Python environment. \n",
      "\u001b[1;31mCommand: 'conda install -n py_3_11 ipykernel --update-deps --force-reinstall'"
     ]
    }
   ],
   "source": [
    "df[df['Unit'] == 'status']['Average Value'].describe()"
   ]
  },
  {
   "cell_type": "markdown",
   "metadata": {},
   "source": [
    "And see how it compares to `usv` and `cpm` units. If the range is not even close to either of them, we will drop the `status` unit as it cannot be easily converted to the correct unit used for radiation measurement."
   ]
  },
  {
   "cell_type": "code",
   "execution_count": null,
   "metadata": {},
   "outputs": [
    {
     "ename": "",
     "evalue": "",
     "output_type": "error",
     "traceback": [
      "\u001b[1;31mRunning cells with 'py_3_11 (Python 3.11.9)' requires the ipykernel package.\n",
      "\u001b[1;31mRun the following command to install 'ipykernel' into the Python environment. \n",
      "\u001b[1;31mCommand: 'conda install -n py_3_11 ipykernel --update-deps --force-reinstall'"
     ]
    }
   ],
   "source": [
    "df[df['Unit'] == 'usv']['Average Value'].describe()"
   ]
  },
  {
   "cell_type": "code",
   "execution_count": null,
   "metadata": {},
   "outputs": [
    {
     "ename": "",
     "evalue": "",
     "output_type": "error",
     "traceback": [
      "\u001b[1;31mRunning cells with 'py_3_11 (Python 3.11.9)' requires the ipykernel package.\n",
      "\u001b[1;31mRun the following command to install 'ipykernel' into the Python environment. \n",
      "\u001b[1;31mCommand: 'conda install -n py_3_11 ipykernel --update-deps --force-reinstall'"
     ]
    }
   ],
   "source": [
    "df[df['Unit'] == 'cpm']['Average Value'].describe()"
   ]
  },
  {
   "cell_type": "markdown",
   "metadata": {},
   "source": [
    "Since the order of magnitude of average values with the `status` differs much from both `usv` and `cpm`, we will drop all of these measurements as well."
   ]
  },
  {
   "cell_type": "code",
   "execution_count": null,
   "metadata": {},
   "outputs": [
    {
     "ename": "",
     "evalue": "",
     "output_type": "error",
     "traceback": [
      "\u001b[1;31mRunning cells with 'py_3_11 (Python 3.11.9)' requires the ipykernel package.\n",
      "\u001b[1;31mRun the following command to install 'ipykernel' into the Python environment. \n",
      "\u001b[1;31mCommand: 'conda install -n py_3_11 ipykernel --update-deps --force-reinstall'"
     ]
    }
   ],
   "source": [
    "df = df[df['Unit'] != 'status']"
   ]
  },
  {
   "cell_type": "markdown",
   "metadata": {},
   "source": [
    "#### Measurements with `PM10 ug/m3` unit"
   ]
  },
  {
   "cell_type": "markdown",
   "metadata": {},
   "source": [
    "This unit is used to measure air pollution, not radiation, so we can safely drop all rows with this unit as well."
   ]
  },
  {
   "cell_type": "code",
   "execution_count": null,
   "metadata": {},
   "outputs": [
    {
     "ename": "",
     "evalue": "",
     "output_type": "error",
     "traceback": [
      "\u001b[1;31mRunning cells with 'py_3_11 (Python 3.11.9)' requires the ipykernel package.\n",
      "\u001b[1;31mRun the following command to install 'ipykernel' into the Python environment. \n",
      "\u001b[1;31mCommand: 'conda install -n py_3_11 ipykernel --update-deps --force-reinstall'"
     ]
    }
   ],
   "source": [
    "df = df[df['Unit'] != 'PM10 ug/m3']"
   ]
  },
  {
   "cell_type": "markdown",
   "metadata": {},
   "source": [
    "### Standarize the measurement unit"
   ]
  },
  {
   "cell_type": "markdown",
   "metadata": {},
   "source": [
    "Show all units after dropping incorrect measurements"
   ]
  },
  {
   "cell_type": "code",
   "execution_count": null,
   "metadata": {},
   "outputs": [
    {
     "ename": "",
     "evalue": "",
     "output_type": "error",
     "traceback": [
      "\u001b[1;31mRunning cells with 'py_3_11 (Python 3.11.9)' requires the ipykernel package.\n",
      "\u001b[1;31mRun the following command to install 'ipykernel' into the Python environment. \n",
      "\u001b[1;31mCommand: 'conda install -n py_3_11 ipykernel --update-deps --force-reinstall'"
     ]
    }
   ],
   "source": [
    "df['Unit'].value_counts()"
   ]
  },
  {
   "cell_type": "markdown",
   "metadata": {},
   "source": [
    "We have 2 units left. We will convert the `cpm` unit to `usv`"
   ]
  },
  {
   "cell_type": "code",
   "execution_count": null,
   "metadata": {},
   "outputs": [
    {
     "ename": "",
     "evalue": "",
     "output_type": "error",
     "traceback": [
      "\u001b[1;31mRunning cells with 'py_3_11 (Python 3.11.9)' requires the ipykernel package.\n",
      "\u001b[1;31mRun the following command to install 'ipykernel' into the Python environment. \n",
      "\u001b[1;31mCommand: 'conda install -n py_3_11 ipykernel --update-deps --force-reinstall'"
     ]
    }
   ],
   "source": [
    "def convert_to_cpm(row):\n",
    "    if row['Unit'] == 'usv':\n",
    "        # Assuming 1 µSv/h = 200 CPM\n",
    "        return row['Average Value'] * 200\n",
    "    elif row['Unit'] == 'cpm':\n",
    "        return row['Average Value']\n",
    "\n",
    "df['Average Value'] = df.apply(convert_to_cpm, axis=1)\n",
    "\n",
    "# Since all data is now in CPM, we can drop the 'Unit' column\n",
    "df.drop('Unit', axis=1, inplace=True)\n",
    "\n",
    "df"
   ]
  },
  {
   "cell_type": "code",
   "execution_count": null,
   "metadata": {},
   "outputs": [
    {
     "ename": "",
     "evalue": "",
     "output_type": "error",
     "traceback": [
      "\u001b[1;31mRunning cells with 'py_3_11 (Python 3.11.9)' requires the ipykernel package.\n",
      "\u001b[1;31mRun the following command to install 'ipykernel' into the Python environment. \n",
      "\u001b[1;31mCommand: 'conda install -n py_3_11 ipykernel --update-deps --force-reinstall'"
     ]
    }
   ],
   "source": [
    "df['Average Value'].describe()"
   ]
  },
  {
   "cell_type": "markdown",
   "metadata": {},
   "source": [
    "### Drop outliers"
   ]
  },
  {
   "cell_type": "code",
   "execution_count": null,
   "metadata": {},
   "outputs": [
    {
     "ename": "",
     "evalue": "",
     "output_type": "error",
     "traceback": [
      "\u001b[1;31mRunning cells with 'py_3_11 (Python 3.11.9)' requires the ipykernel package.\n",
      "\u001b[1;31mRun the following command to install 'ipykernel' into the Python environment. \n",
      "\u001b[1;31mCommand: 'conda install -n py_3_11 ipykernel --update-deps --force-reinstall'"
     ]
    }
   ],
   "source": []
  },
  {
   "cell_type": "markdown",
   "metadata": {},
   "source": [
    "We can convert all `float64` types to `float32` for faster calculations"
   ]
  },
  {
   "cell_type": "code",
   "execution_count": null,
   "metadata": {},
   "outputs": [
    {
     "ename": "",
     "evalue": "",
     "output_type": "error",
     "traceback": [
      "\u001b[1;31mRunning cells with 'py_3_11 (Python 3.11.9)' requires the ipykernel package.\n",
      "\u001b[1;31mRun the following command to install 'ipykernel' into the Python environment. \n",
      "\u001b[1;31mCommand: 'conda install -n py_3_11 ipykernel --update-deps --force-reinstall'"
     ]
    }
   ],
   "source": [
    "df.dtypes"
   ]
  },
  {
   "cell_type": "code",
   "execution_count": null,
   "metadata": {},
   "outputs": [
    {
     "ename": "",
     "evalue": "",
     "output_type": "error",
     "traceback": [
      "\u001b[1;31mRunning cells with 'py_3_11 (Python 3.11.9)' requires the ipykernel package.\n",
      "\u001b[1;31mRun the following command to install 'ipykernel' into the Python environment. \n",
      "\u001b[1;31mCommand: 'conda install -n py_3_11 ipykernel --update-deps --force-reinstall'"
     ]
    }
   ],
   "source": [
    "df['Device ID'] = df['Device ID'].astype('uint8')\n",
    "\n",
    "to_float32 = ['Latitude', 'Longitude', 'Height', 'Average Value']\n",
    "df[to_float32] = df[to_float32].astype('float32')\n",
    "\n",
    "df['Measurement Day'] = pd.to_datetime(df['Measurement Day'])\n",
    "\n",
    "df.dtypes"
   ]
  },
  {
   "cell_type": "markdown",
   "metadata": {},
   "source": [
    "## Data visualization"
   ]
  },
  {
   "cell_type": "code",
   "execution_count": null,
   "metadata": {},
   "outputs": [
    {
     "ename": "",
     "evalue": "",
     "output_type": "error",
     "traceback": [
      "\u001b[1;31mRunning cells with 'py_3_11 (Python 3.11.9)' requires the ipykernel package.\n",
      "\u001b[1;31mRun the following command to install 'ipykernel' into the Python environment. \n",
      "\u001b[1;31mCommand: 'conda install -n py_3_11 ipykernel --update-deps --force-reinstall'"
     ]
    }
   ],
   "source": [
    "# Get average sensor measurements in the last year (Measurement day column is the day of the measurement, use all dates between 2024-01-01 and 2024-04-01)\n",
    "df_2024 = df[(df['Measurement Day'] >= '2024-01-01') & (df['Measurement Day'] <= '2024-04-01')]\n",
    "# Now average for the same location\n",
    "df_2024 = df_2024.groupby(['Latitude', 'Longitude']).mean().reset_index()\n",
    "\n",
    "df_2024"
   ]
  },
  {
   "cell_type": "code",
   "execution_count": null,
   "metadata": {},
   "outputs": [
    {
     "ename": "",
     "evalue": "",
     "output_type": "error",
     "traceback": [
      "\u001b[1;31mRunning cells with 'py_3_11 (Python 3.11.9)' requires the ipykernel package.\n",
      "\u001b[1;31mRun the following command to install 'ipykernel' into the Python environment. \n",
      "\u001b[1;31mCommand: 'conda install -n py_3_11 ipykernel --update-deps --force-reinstall'"
     ]
    }
   ],
   "source": [
    "fig = px.scatter_geo(\n",
    "    df_2024, \n",
    "    lat='Latitude', \n",
    "    lon='Longitude', \n",
    "    color='Average Value',\n",
    "    title='Radiation levels',\n",
    "    color_continuous_scale=['green', 'yellow', 'red', 'purple'],\n",
    ")\n",
    "fig.update_layout(height=800)\n",
    "fig.show()"
   ]
  },
  {
   "cell_type": "code",
   "execution_count": null,
   "metadata": {},
   "outputs": [
    {
     "ename": "",
     "evalue": "",
     "output_type": "error",
     "traceback": [
      "\u001b[1;31mRunning cells with 'py_3_11 (Python 3.11.9)' requires the ipykernel package.\n",
      "\u001b[1;31mRun the following command to install 'ipykernel' into the Python environment. \n",
      "\u001b[1;31mCommand: 'conda install -n py_3_11 ipykernel --update-deps --force-reinstall'"
     ]
    }
   ],
   "source": [
    "import requests\n",
    "import numpy as np\n",
    "from urllib.request import urlopen\n",
    "from json.decoder import JSONDecodeError\n",
    "\n",
    "def get_elevation(lat, long):\n",
    "    try:\n",
    "        query = f'https://api.open-elevation.com/api/v1/lookup?locations={lat},{long}'\n",
    "        response = requests.get(query).json()\n",
    "        elevation = response[0]['elevation']\n",
    "        return elevation\n",
    "    except (KeyError, IndexError):\n",
    "        return None\n",
    "    except JSONDecodeError:\n",
    "        print(\"Error: Unable to decode JSON response. The API might be down or returning unexpected data.\")\n",
    "        return None\n",
    "\n",
    "def fill_missing_height(df):\n",
    "    missing_height_rows = df[pd.isnull(df['Height'])]\n",
    "    for index, row in missing_height_rows.iterrows():\n",
    "        lat, lon = row['Latitude'], row['Longitude']\n",
    "        height = get_elevation(lat = lat, long = lon)\n",
    "        if height is not None:\n",
    "            df.at[index, 'Height'] = height\n"
   ]
  },
  {
   "cell_type": "code",
   "execution_count": null,
   "metadata": {},
   "outputs": [
    {
     "ename": "",
     "evalue": "",
     "output_type": "error",
     "traceback": [
      "\u001b[1;31mRunning cells with 'py_3_11 (Python 3.11.9)' requires the ipykernel package.\n",
      "\u001b[1;31mRun the following command to install 'ipykernel' into the Python environment. \n",
      "\u001b[1;31mCommand: 'conda install -n py_3_11 ipykernel --update-deps --force-reinstall'"
     ]
    }
   ],
   "source": [
    "final_df = fill_missing_height(df)"
   ]
  },
  {
   "cell_type": "code",
   "execution_count": null,
   "metadata": {},
   "outputs": [
    {
     "ename": "",
     "evalue": "",
     "output_type": "error",
     "traceback": [
      "\u001b[1;31mRunning cells with 'py_3_11 (Python 3.11.9)' requires the ipykernel package.\n",
      "\u001b[1;31mRun the following command to install 'ipykernel' into the Python environment. \n",
      "\u001b[1;31mCommand: 'conda install -n py_3_11 ipykernel --update-deps --force-reinstall'"
     ]
    }
   ],
   "source": [
    "print(final_df)"
   ]
  },
  {
   "cell_type": "code",
   "execution_count": null,
   "metadata": {},
   "outputs": [
    {
     "ename": "",
     "evalue": "",
     "output_type": "error",
     "traceback": [
      "\u001b[1;31mRunning cells with 'py_3_11 (Python 3.11.9)' requires the ipykernel package.\n",
      "\u001b[1;31mRun the following command to install 'ipykernel' into the Python environment. \n",
      "\u001b[1;31mCommand: 'conda install -n py_3_11 ipykernel --update-deps --force-reinstall'"
     ]
    }
   ],
   "source": [
    "final_df = final_df.groupby(['Measurement Day', 'Latitude', 'Longitude'])"
   ]
  }
 ],
 "metadata": {
  "kernelspec": {
   "display_name": "base",
   "language": "python",
   "name": "python3"
  },
  "language_info": {
   "codemirror_mode": {
    "name": "ipython",
    "version": 3
   },
   "file_extension": ".py",
   "mimetype": "text/x-python",
   "name": "python",
   "nbconvert_exporter": "python",
   "pygments_lexer": "ipython3",
   "version": "3.11.9"
  }
 },
 "nbformat": 4,
 "nbformat_minor": 2
}
