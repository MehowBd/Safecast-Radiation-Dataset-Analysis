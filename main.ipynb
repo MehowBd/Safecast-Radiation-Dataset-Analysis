{
 "cells": [
  {
   "cell_type": "code",
   "execution_count": 35,
   "metadata": {},
   "outputs": [
    {
     "name": "stdout",
     "output_type": "stream",
     "text": [
      "Index(['id', 'user_id', 'value', 'unit', 'location_name', 'device_id',\n",
      "       'original_id', 'measurement_import_id', 'captured_at', 'height',\n",
      "       'devicetype_id', 'sensor_id', 'station_id', 'channel_id', 'latitude',\n",
      "       'longitude'],\n",
      "      dtype='object')\n"
     ]
    }
   ],
   "source": [
    "import requests\n",
    "import numpy as np\n",
    "import pandas as pd\n",
    "\n",
    "# Function to fetch data based on distance, latitude, and longitude\n",
    "def fetch_safecast_data(latitude, longitude, date, interval):\n",
    "    # URL of the JSON API with dynamic variables\n",
    "    end_date = date + pd.Timedelta(days=interval)\n",
    "    url = f\"https://api.safecast.org/en-US/measurements?captured_after={date.year}%2F{date.month}%2F{date.day}+00%3A00%3A00&captured_before={end_date.year}%2F{end_date.month}%2F{end_date.day}+00%3A00%3A00&format=json&latitude={latitude}&longitude={longitude}\"\n",
    "\n",
    "    response = requests.get(url)\n",
    "\n",
    "\n",
    "    # Check if the request was successful (status code 200)\n",
    "    if response.status_code == 200:\n",
    "        # Parse JSON response\n",
    "        data = response.json()\n",
    "\n",
    "        # Now, 'data' contains the Python representation of the JSON data\n",
    "        return data\n",
    "    else:\n",
    "        print(\"Failed to fetch data:\", response.status_code)\n",
    "        return None\n",
    "    \n",
    "def fetch_all(latitude_range, longitude_range, date_range, interval):\n",
    "    columns = ['id', 'user_id', 'value', 'unit', 'location_name', 'device_id', 'original_id', 'measurement_import_id', 'captured_at', 'height', 'devicetype_id', 'sensor_id', 'station_id', 'channel_id', 'latitude', 'longitude']\n",
    "    result = pd.DataFrame(columns=columns)\n",
    "\n",
    "    latitude = np.linspace(latitude_range[0], latitude_range[1], interval)\n",
    "    longitude = np.linspace(longitude_range[0], longitude_range[1], interval)\n",
    "    dates = pd.date_range(start=date_range[0], end=date_range[0], periods=interval)\n",
    "    \n",
    "    for date in dates:\n",
    "        for lat in latitude:\n",
    "            for long in longitude:\n",
    "                batch = pd.DataFrame(fetch_safecast_data(lat, long, date, 1))\n",
    "                result = pd.concat([result, batch], ignore_index=True)\n",
    "    return result\n"
   ]
  },
  {
   "cell_type": "code",
   "execution_count": 39,
   "metadata": {},
   "outputs": [],
   "source": [
    "result = fetch_all([34, 35], [134, 135], [pd.Timestamp('2024-03-20'), pd.Timestamp('2024-03-20')], 2)"
   ]
  },
  {
   "cell_type": "code",
   "execution_count": 48,
   "metadata": {},
   "outputs": [
    {
     "name": "stdout",
     "output_type": "stream",
     "text": [
      "            id user_id  value    unit location_name device_id original_id  \\\n",
      "0    238664070       9   51.0     cpm          None     65008   238664070   \n",
      "1    238664071       9   43.0     cpm          None     65000   238664071   \n",
      "2    238664072       9   48.0     cpm          None     65008   238664072   \n",
      "3    238664076       9   49.0     cpm          None     65000   238664076   \n",
      "4    238664073       9   41.0     cpm          None    100361   238664073   \n",
      "..         ...     ...    ...     ...           ...       ...         ...   \n",
      "195  238664093     759   20.9  status          None    100029   238664093   \n",
      "196  238664091     759   25.0     cpm          None    100022   238664091   \n",
      "197  238664094       9   39.0     cpm          None     65008   238664094   \n",
      "198  238664096     573   16.0     cpm          None       106   238664096   \n",
      "199  238664095     573   32.0     cpm          None       107   238664095   \n",
      "\n",
      "    measurement_import_id               captured_at  height  \\\n",
      "0                    None  2024-03-20T00:00:01.000Z     NaN   \n",
      "1                    None  2024-03-20T00:00:04.000Z     NaN   \n",
      "2                    None  2024-03-20T00:00:06.000Z     NaN   \n",
      "3                    None  2024-03-20T00:00:09.000Z     NaN   \n",
      "4                    None  2024-03-20T00:00:09.000Z   219.0   \n",
      "..                    ...                       ...     ...   \n",
      "195                  None  2024-03-20T00:00:30.000Z    92.0   \n",
      "196                  None  2024-03-20T00:00:30.000Z    92.0   \n",
      "197                  None  2024-03-20T00:00:31.000Z     NaN   \n",
      "198                  None  2024-03-20T00:00:32.428Z     3.0   \n",
      "199                  None  2024-03-20T00:00:32.437Z     3.0   \n",
      "\n",
      "                                         devicetype_id sensor_id station_id  \\\n",
      "0                                                 None      None       None   \n",
      "1                                                 None      None       None   \n",
      "2                                                 None      None       None   \n",
      "3                                                 None      None       None   \n",
      "4                                         Pointcast V1      None       None   \n",
      "..                                                 ...       ...        ...   \n",
      "195  DeviceID:10002,Temperature:20.9,Battery Voltag...      None       None   \n",
      "196                                       Pointcast V1      None       None   \n",
      "197                                               None      None       None   \n",
      "198                                         Wizkers V1      None       None   \n",
      "199                                         Wizkers V1      None       None   \n",
      "\n",
      "    channel_id   latitude   longitude  \n",
      "0         None  34.482693  136.163068  \n",
      "1         None  34.482620  136.163084  \n",
      "2         None  34.482700  136.163063  \n",
      "3         None  34.482623  136.163083  \n",
      "4         None  37.494708  139.926040  \n",
      "..         ...        ...         ...  \n",
      "195       None  35.659491  139.727850  \n",
      "196       None  35.659491  139.727850  \n",
      "197       None  34.482736  136.163044  \n",
      "198       None  37.442836 -122.128094  \n",
      "199       None  37.442836 -122.128094  \n",
      "\n",
      "[200 rows x 16 columns]\n"
     ]
    }
   ],
   "source": [
    "print(result)"
   ]
  },
  {
   "cell_type": "code",
   "execution_count": 49,
   "metadata": {},
   "outputs": [
    {
     "name": "stdout",
     "output_type": "stream",
     "text": [
      "            id  value    unit  height   longitude   latitude\n",
      "0    238664070   51.0     cpm     NaN  136.163068  34.482693\n",
      "1    238664071   43.0     cpm     NaN  136.163084  34.482620\n",
      "2    238664072   48.0     cpm     NaN  136.163063  34.482700\n",
      "3    238664076   49.0     cpm     NaN  136.163083  34.482623\n",
      "4    238664073   41.0     cpm   219.0  139.926040  37.494708\n",
      "..         ...    ...     ...     ...         ...        ...\n",
      "195  238664093   20.9  status    92.0  139.727850  35.659491\n",
      "196  238664091   25.0     cpm    92.0  139.727850  35.659491\n",
      "197  238664094   39.0     cpm     NaN  136.163044  34.482736\n",
      "198  238664096   16.0     cpm     3.0 -122.128094  37.442836\n",
      "199  238664095   32.0     cpm     3.0 -122.128094  37.442836\n",
      "\n",
      "[200 rows x 6 columns]\n"
     ]
    }
   ],
   "source": [
    "print(result[['id', 'value', 'unit', 'height', 'longitude', 'latitude']])"
   ]
  }
 ],
 "metadata": {
  "kernelspec": {
   "display_name": "Python 3",
   "language": "python",
   "name": "python3"
  },
  "language_info": {
   "codemirror_mode": {
    "name": "ipython",
    "version": 3
   },
   "file_extension": ".py",
   "mimetype": "text/x-python",
   "name": "python",
   "nbconvert_exporter": "python",
   "pygments_lexer": "ipython3",
   "version": "3.6.8rc1"
  }
 },
 "nbformat": 4,
 "nbformat_minor": 2
}
